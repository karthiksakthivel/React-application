{
  "nbformat": 4,
  "nbformat_minor": 0,
  "metadata": {
    "colab": {
      "name": "Untitled0.ipynb",
      "provenance": [],
      "collapsed_sections": [],
      "mount_file_id": "1FG_DSt0IkFuDnpBPVQ4USizxi3k5hyeY",
      "authorship_tag": "ABX9TyOpqYajUx1PPHxi3wlzqa+X",
      "include_colab_link": true
    },
    "kernelspec": {
      "name": "python3",
      "display_name": "Python 3"
    },
    "accelerator": "GPU"
  },
  "cells": [
    {
      "cell_type": "markdown",
      "metadata": {
        "id": "view-in-github",
        "colab_type": "text"
      },
      "source": [
        "<a href=\"https://colab.research.google.com/github/karthiksakthivel/React-application/blob/master/mini.ipynb\" target=\"_parent\"><img src=\"https://colab.research.google.com/assets/colab-badge.svg\" alt=\"Open In Colab\"/></a>"
      ]
    },
    {
      "cell_type": "code",
      "metadata": {
        "colab": {
          "base_uri": "https://localhost:8080/"
        },
        "id": "pcjrd_5WlHo2",
        "outputId": "7abccdb8-4fea-4af7-ff6a-c8813f5849da"
      },
      "source": [
        "from google.colab import drive\n",
        "\n",
        "drive.mount('/content/gdrive')"
      ],
      "execution_count": 1,
      "outputs": [
        {
          "output_type": "stream",
          "text": [
            "Mounted at /content/gdrive\n"
          ],
          "name": "stdout"
        }
      ]
    },
    {
      "cell_type": "code",
      "metadata": {
        "colab": {
          "base_uri": "https://localhost:8080/"
        },
        "id": "T4V3b4j9l5Xs",
        "outputId": "16c5eb57-bfeb-4487-e150-52688e9605af"
      },
      "source": [
        "!unzip gdrive/MyDrive/leaf.zip"
      ],
      "execution_count": 5,
      "outputs": [
        {
          "output_type": "stream",
          "text": [
            "Archive:  gdrive/MyDrive/leaf.zip\n",
            "   creating: leaf/\n",
            "  inflating: leaf/algae leaf spot(blur).jpg  \n",
            "  inflating: leaf/algae leaf spot(fh).jpg  \n",
            "  inflating: leaf/algae leaf spot(fv).jpg  \n",
            "  inflating: leaf/algae leaf spot.jpg  \n",
            "  inflating: leaf/algae leaf spot1(blur).jpg  \n",
            "  inflating: leaf/algae leaf spot1(fh).jpg  \n",
            "  inflating: leaf/algae leaf spot1(fv).jpg  \n",
            "  inflating: leaf/algae leaf spot1.jpg  \n",
            "  inflating: leaf/algae leaf spot12(blur).jpg  \n",
            "  inflating: leaf/algae leaf spot12(fh).jpg  \n",
            "  inflating: leaf/algae leaf spot12(fv).jpg  \n",
            "  inflating: leaf/algae leaf spot12.jpg  \n",
            "  inflating: leaf/algae leaf spot14(blur).jpg  \n",
            "  inflating: leaf/algae leaf spot14(fh).jpg  \n",
            "  inflating: leaf/algae leaf spot14(fv).jpg  \n",
            "  inflating: leaf/algae leaf spot14.jpg  \n",
            "  inflating: leaf/algae leaf spot2(blur).jpg  \n",
            "  inflating: leaf/algae leaf spot2(fh).jpg  \n",
            "  inflating: leaf/algae leaf spot2(fv).jpg  \n",
            "  inflating: leaf/algae leaf spot2.jpg  \n",
            "  inflating: leaf/algae leaf spot3(blur).jpg  \n",
            "  inflating: leaf/algae leaf spot3(fh).jpg  \n",
            "  inflating: leaf/algae leaf spot3(fv).jpg  \n",
            "  inflating: leaf/algae leaf spot3.jpg  \n",
            "  inflating: leaf/algae leaf spot6(blur).jpg  \n",
            "  inflating: leaf/algae leaf spot6(fh).jpg  \n",
            "  inflating: leaf/algae leaf spot6(fv).jpg  \n",
            "  inflating: leaf/algae leaf spot6.jpg  \n",
            "  inflating: leaf/algae leaf spot7(blur).jpg  \n",
            "  inflating: leaf/algae leaf spot7(fh).jpg  \n",
            "  inflating: leaf/algae leaf spot7(fv).jpg  \n",
            "  inflating: leaf/algae leaf spot7.jpg  \n",
            "  inflating: leaf/blister blight1(blur).jpg  \n",
            "  inflating: leaf/blister blight1(fh).jpg  \n",
            "  inflating: leaf/blister blight1(fv).jpg  \n",
            "  inflating: leaf/blister blight1.jpg  \n",
            "  inflating: leaf/blister blight10(blur).jpg  \n",
            "  inflating: leaf/blister blight10(fh).jpg  \n",
            "  inflating: leaf/blister blight10(fv).jpg  \n",
            "  inflating: leaf/blister blight10.jpg  \n",
            "  inflating: leaf/blister blight13(blur).jpg  \n",
            "  inflating: leaf/blister blight13(fh).jpg  \n",
            "  inflating: leaf/blister blight13(fv).jpg  \n",
            "  inflating: leaf/blister blight13.jpg  \n",
            "  inflating: leaf/blister blight2(blur).jpg  \n",
            "  inflating: leaf/blister blight2(fh).jpg  \n",
            "  inflating: leaf/blister blight2(fv).jpg  \n",
            "  inflating: leaf/blister blight2.jpg  \n",
            "  inflating: leaf/blister blight3(blur).jpg  \n",
            "  inflating: leaf/blister blight3(fh).jpg  \n",
            "  inflating: leaf/blister blight3(fv).jpg  \n",
            "  inflating: leaf/blister blight3.jpg  \n",
            "  inflating: leaf/brown blight(blur).jpg  \n",
            "  inflating: leaf/brown blight(fh).jpg  \n",
            "  inflating: leaf/brown blight(fv).jpg  \n",
            "  inflating: leaf/brown blight.JPG   \n",
            "  inflating: leaf/brown blight2(blur).jpg  \n",
            "  inflating: leaf/brown blight2(fh).jpg  \n",
            "  inflating: leaf/brown blight2(fv).jpg  \n",
            "  inflating: leaf/brown blight2.jfif  \n",
            "  inflating: leaf/brown blight4(blur).jpg  \n",
            "  inflating: leaf/brown blight4(fh).jpg  \n",
            "  inflating: leaf/brown blight4(fv).jpg  \n",
            "  inflating: leaf/brown blight4.jpg  \n",
            "  inflating: leaf/brown blight8(blur).jpg  \n",
            "  inflating: leaf/brown blight8(fh).jpg  \n",
            "  inflating: leaf/brown blight8(fv).jpg  \n",
            "  inflating: leaf/brown blight8.jpg  \n",
            "  inflating: leaf/bud blight(blur).jpg  \n",
            "  inflating: leaf/bud blight(fh).jpg  \n",
            "  inflating: leaf/bud blight(fv).jpg  \n",
            "  inflating: leaf/bud blight.jpg     \n",
            "  inflating: leaf/bud blight1(blur).jpg  \n",
            "  inflating: leaf/bud blight1(fh).jpg  \n",
            "  inflating: leaf/bud blight1(fv).jpg  \n",
            "  inflating: leaf/bud blight1.jpg    \n",
            "  inflating: leaf/bud blight2(blur).jpg  \n",
            "  inflating: leaf/bud blight2(fh).jpg  \n",
            "  inflating: leaf/bud blight2(fv).jpg  \n",
            "  inflating: leaf/bud blight2.jpg    \n",
            "  inflating: leaf/bud blight4(blur).jpg  \n",
            "  inflating: leaf/bud blight4(fh).jpg  \n",
            "  inflating: leaf/bud blight4(fv).jpg  \n",
            "  inflating: leaf/bud blight4.jpg    \n",
            "  inflating: leaf/bud blight5(blur).jpg  \n",
            "  inflating: leaf/bud blight5(fh).jpg  \n",
            "  inflating: leaf/bud blight5(fv).jpg  \n",
            "  inflating: leaf/bud blight5.jpg    \n",
            "  inflating: leaf/grey blight(blur).jpg  \n",
            "  inflating: leaf/grey blight(fh).jpg  \n",
            "  inflating: leaf/grey blight(fv).jpg  \n",
            "  inflating: leaf/grey blight.jpg    \n",
            "  inflating: leaf/grey blight2(blur).jpg  \n",
            "  inflating: leaf/grey blight2(fh).jpg  \n",
            "  inflating: leaf/grey blight2(fv).jpg  \n",
            "  inflating: leaf/grey blight2.jpg   \n",
            "  inflating: leaf/grey blight3(blur).jpg  \n",
            "  inflating: leaf/grey blight3(fh).jpg  \n",
            "  inflating: leaf/grey blight3(fv).jpg  \n",
            "  inflating: leaf/grey blight3.jpg   \n",
            "  inflating: leaf/grey blight5(blur).jpg  \n",
            "  inflating: leaf/grey blight5(fh).jpg  \n",
            "  inflating: leaf/grey blight5(fv).jpg  \n",
            "  inflating: leaf/grey blight5.jpg   \n",
            "  inflating: leaf/grey blight7(blur).jpg  \n",
            "  inflating: leaf/grey blight7(fh).jpg  \n",
            "  inflating: leaf/grey blight7(fv).jpg  \n",
            "  inflating: leaf/grey blight7.jpg   \n",
            "  inflating: leaf/grey blight8(blur).jpg  \n",
            "  inflating: leaf/grey blight8(fh).jpg  \n",
            "  inflating: leaf/grey blight8(fv).jpg  \n",
            "  inflating: leaf/grey blight8.jpg   \n",
            "  inflating: leaf/grey blight9(blur).jpg  \n",
            "  inflating: leaf/grey blight9(fh).jpg  \n",
            "  inflating: leaf/grey blight9(fv).jpg  \n",
            "  inflating: leaf/grey blight9.jpg   \n",
            "  inflating: leaf/leaf blight7(blur).jpg  \n",
            "  inflating: leaf/leaf blight7(fh).jpg  \n",
            "  inflating: leaf/leaf blight7(fv).jpg  \n",
            "  inflating: leaf/leaf blight7.JPG   \n",
            "  inflating: leaf/leaf blight8(blur).jpg  \n",
            "  inflating: leaf/leaf blight8(fh).jpg  \n",
            "  inflating: leaf/leaf blight8(fv).jpg  \n",
            "  inflating: leaf/leaf blight8.jpg   \n",
            "  inflating: leaf/red scab3(blur).jpg  \n",
            "  inflating: leaf/red scab3(fh).jpg  \n",
            "  inflating: leaf/red scab3(fv).jpg  \n",
            "  inflating: leaf/red scab3.jpg      \n",
            "  inflating: leaf/white spot(blur).jpg  \n",
            "  inflating: leaf/white spot(fh).jpg  \n",
            "  inflating: leaf/white spot(fv).jpg  \n",
            " extracting: leaf/white spot.PNG     \n",
            "  inflating: leaf/white spot1(blur).jpg  \n",
            "  inflating: leaf/white spot1(fh).jpg  \n",
            "  inflating: leaf/white spot1(fv).jpg  \n",
            "  inflating: leaf/white spot1.PNG    \n",
            "  inflating: leaf/white spot2(blur).jpg  \n",
            "  inflating: leaf/white spot2(fh).jpg  \n",
            "  inflating: leaf/white spot2(fv).jpg  \n",
            "  inflating: leaf/white spot2.JPG    \n",
            "  inflating: leaf/white spot3(blur).jpg  \n",
            "  inflating: leaf/white spot3(fh).jpg  \n",
            "  inflating: leaf/white spot3(fv).jpg  \n",
            "  inflating: leaf/white spot3.JPG    \n",
            "  inflating: leaf/white spot4(blur).jpg  \n",
            "  inflating: leaf/white spot4(fh).jpg  \n",
            "  inflating: leaf/white spot4(fv).jpg  \n",
            "  inflating: leaf/white spot4.JPG    \n",
            "  inflating: leaf/white spot5(blur).jpg  \n",
            "  inflating: leaf/white spot5(fh).jpg  \n",
            "  inflating: leaf/white spot5(fv).jpg  \n",
            "  inflating: leaf/white spot5.JPG    \n",
            "  inflating: leaf/white spot6(blur).jpg  \n",
            "  inflating: leaf/white spot6(fh).jpg  \n",
            "  inflating: leaf/white spot6(fv).jpg  \n",
            "  inflating: leaf/white spot6.jpg    \n"
          ],
          "name": "stdout"
        }
      ]
    },
    {
      "cell_type": "markdown",
      "metadata": {
        "id": "1ibdrlsEnfiq"
      },
      "source": [
        ""
      ]
    },
    {
      "cell_type": "code",
      "metadata": {
        "id": "I1BL_69GnGRS"
      },
      "source": [
        "import numpy as np\n",
        "import pickle\n",
        "import cv2\n",
        "from os import listdir\n",
        "from sklearn.preprocessing import LabelBinarizer\n",
        "from keras.models import Sequential\n",
        "from keras.layers.normalization import BatchNormalization\n",
        "from keras.layers.convolutional import Conv2D\n",
        "from keras.layers.convolutional import MaxPooling2D\n",
        "from keras.layers.core import Activation, Flatten, Dropout, Dense\n",
        "from keras import backend as K\n",
        "from keras.preprocessing.image import ImageDataGenerator\n",
        "from keras.optimizers import Adam\n",
        "from keras.preprocessing import image\n",
        "from keras.preprocessing.image import img_to_array\n",
        "from sklearn.preprocessing import MultiLabelBinarizer\n",
        "from sklearn.model_selection import train_test_split\n",
        "import matplotlib.pyplot as plt"
      ],
      "execution_count": 7,
      "outputs": []
    },
    {
      "cell_type": "code",
      "metadata": {
        "id": "EdhVNB4xntU0"
      },
      "source": [
        "directory_root='leaf/'"
      ],
      "execution_count": 8,
      "outputs": []
    },
    {
      "cell_type": "code",
      "metadata": {
        "id": "Nu3CZ3k-oWoQ"
      },
      "source": [
        "def convert_image_to_array(image_dir):\n",
        "    try:\n",
        "        image = cv2.imread(image_dir)\n",
        "        if image is not None :\n",
        "            image = cv2.resize(image, default_image_size)   \n",
        "            return img_to_array(image)\n",
        "        else :\n",
        "            return np.array([])\n",
        "    except Exception as e:\n",
        "        print(f\"Error : {e}\")\n",
        "        return None"
      ],
      "execution_count": 10,
      "outputs": []
    },
    {
      "cell_type": "code",
      "metadata": {
        "colab": {
          "base_uri": "https://localhost:8080/",
          "height": 131
        },
        "id": "72QrY3MrqZ02",
        "outputId": "053d37e2-1707-4f4c-ff5c-fb9a7e7a05e1"
      },
      "source": [
        "image_list, label_list = [], []\n",
        "try:\n",
        "    print(\"[INFO] Loading images ...\")\n",
        "    root_dir = listdir(directory_root)\n",
        "    for directory in root_dir :\n",
        "        # remove .DS_Store from list\n",
        "        if directory == \".DS_Store\" :\n",
        "            root_dir.remove(directory)"
      ],
      "execution_count": 11,
      "outputs": [
        {
          "output_type": "error",
          "ename": "SyntaxError",
          "evalue": "ignored",
          "traceback": [
            "\u001b[0;36m  File \u001b[0;32m\"<ipython-input-11-d85451a05601>\"\u001b[0;36m, line \u001b[0;32m8\u001b[0m\n\u001b[0;31m    root_dir.remove(directory)\u001b[0m\n\u001b[0m                              ^\u001b[0m\n\u001b[0;31mSyntaxError\u001b[0m\u001b[0;31m:\u001b[0m unexpected EOF while parsing\n"
          ]
        }
      ]
    }
  ]
}